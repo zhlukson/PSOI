{
 "cells": [
  {
   "cell_type": "code",
   "execution_count": 173,
   "id": "ad07976f",
   "metadata": {},
   "outputs": [
    {
     "data": {
      "text/plain": [
       "['.ipynb_checkpoints', '20230915_210239.csv']"
      ]
     },
     "execution_count": 173,
     "metadata": {},
     "output_type": "execute_result"
    }
   ],
   "source": [
    "import os\n",
    "import datetime as dt\n",
    "os.listdir(path=\"./logs\")\n"
   ]
  },
  {
   "cell_type": "code",
   "execution_count": 174,
   "id": "544270a9",
   "metadata": {},
   "outputs": [],
   "source": [
    "import pandas as pd\n",
    "log_file = \"logs/20230915_210239.csv\""
   ]
  },
  {
   "cell_type": "code",
   "execution_count": 175,
   "id": "40bcd2a5",
   "metadata": {},
   "outputs": [],
   "source": [
    "df = pd.read_csv(log_file, names=[\"operation\", \"dtime\"])"
   ]
  },
  {
   "cell_type": "code",
   "execution_count": 176,
   "id": "740e80bc",
   "metadata": {},
   "outputs": [],
   "source": [
    "df1 = pd.read_csv(\"log.csv\", names=[\"operation\", \"dtime\"])"
   ]
  },
  {
   "cell_type": "code",
   "execution_count": 177,
   "id": "2c477eca",
   "metadata": {},
   "outputs": [],
   "source": [
    "df3 = pd.concat([df, df1])"
   ]
  },
  {
   "cell_type": "code",
   "execution_count": 178,
   "id": "be20223a",
   "metadata": {},
   "outputs": [
    {
     "data": {
      "text/html": [
       "<div>\n",
       "<style scoped>\n",
       "    .dataframe tbody tr th:only-of-type {\n",
       "        vertical-align: middle;\n",
       "    }\n",
       "\n",
       "    .dataframe tbody tr th {\n",
       "        vertical-align: top;\n",
       "    }\n",
       "\n",
       "    .dataframe thead th {\n",
       "        text-align: right;\n",
       "    }\n",
       "</style>\n",
       "<table border=\"1\" class=\"dataframe\">\n",
       "  <thead>\n",
       "    <tr style=\"text-align: right;\">\n",
       "      <th></th>\n",
       "      <th>operation</th>\n",
       "      <th>dtime</th>\n",
       "    </tr>\n",
       "  </thead>\n",
       "  <tbody>\n",
       "    <tr>\n",
       "      <th>0</th>\n",
       "      <td>ping</td>\n",
       "      <td>2022-09-16 15:05:31</td>\n",
       "    </tr>\n",
       "    <tr>\n",
       "      <th>1</th>\n",
       "      <td>now</td>\n",
       "      <td>2022-09-16 15:05:35</td>\n",
       "    </tr>\n",
       "    <tr>\n",
       "      <th>2</th>\n",
       "      <td>type</td>\n",
       "      <td>2022-09-16 15:05:39</td>\n",
       "    </tr>\n",
       "    <tr>\n",
       "      <th>3</th>\n",
       "      <td>type</td>\n",
       "      <td>2022-09-16 15:05:43</td>\n",
       "    </tr>\n",
       "    <tr>\n",
       "      <th>4</th>\n",
       "      <td>type</td>\n",
       "      <td>2022-09-16 15:05:47</td>\n",
       "    </tr>\n",
       "    <tr>\n",
       "      <th>...</th>\n",
       "      <td>...</td>\n",
       "      <td>...</td>\n",
       "    </tr>\n",
       "    <tr>\n",
       "      <th>62</th>\n",
       "      <td>type</td>\n",
       "      <td>2023-09-15 22:32:40</td>\n",
       "    </tr>\n",
       "    <tr>\n",
       "      <th>63</th>\n",
       "      <td>type</td>\n",
       "      <td>2023-09-15 22:32:44</td>\n",
       "    </tr>\n",
       "    <tr>\n",
       "      <th>64</th>\n",
       "      <td>type</td>\n",
       "      <td>2023-09-15 22:32:48</td>\n",
       "    </tr>\n",
       "    <tr>\n",
       "      <th>65</th>\n",
       "      <td>sum</td>\n",
       "      <td>2023-09-15 22:32:52</td>\n",
       "    </tr>\n",
       "    <tr>\n",
       "      <th>66</th>\n",
       "      <td>pow</td>\n",
       "      <td>2023-09-15 22:32:56</td>\n",
       "    </tr>\n",
       "  </tbody>\n",
       "</table>\n",
       "<p>167 rows × 2 columns</p>\n",
       "</div>"
      ],
      "text/plain": [
       "   operation                dtime\n",
       "0       ping  2022-09-16 15:05:31\n",
       "1        now  2022-09-16 15:05:35\n",
       "2       type  2022-09-16 15:05:39\n",
       "3       type  2022-09-16 15:05:43\n",
       "4       type  2022-09-16 15:05:47\n",
       "..       ...                  ...\n",
       "62      type  2023-09-15 22:32:40\n",
       "63      type  2023-09-15 22:32:44\n",
       "64      type  2023-09-15 22:32:48\n",
       "65       sum  2023-09-15 22:32:52\n",
       "66       pow  2023-09-15 22:32:56\n",
       "\n",
       "[167 rows x 2 columns]"
      ]
     },
     "execution_count": 178,
     "metadata": {},
     "output_type": "execute_result"
    }
   ],
   "source": [
    "df3"
   ]
  },
  {
   "cell_type": "code",
   "execution_count": 179,
   "id": "ae476403",
   "metadata": {},
   "outputs": [],
   "source": [
    "op = \"type\"\n",
    "dl = dt.datetime(2023, 9, 15, 21, 7, 0)\n",
    "dr = dt.datetime(2023, 9, 15, 21, 9, 0)"
   ]
  },
  {
   "cell_type": "code",
   "execution_count": null,
   "id": "bb0dbb82",
   "metadata": {},
   "outputs": [],
   "source": []
  },
  {
   "cell_type": "code",
   "execution_count": 180,
   "id": "62c2f35a",
   "metadata": {},
   "outputs": [],
   "source": [
    "df3[\"dtime\"] = df3[\"dtime\"].apply(lambda x : dt.datetime.strptime(x, \"%Y-%m-%d %H:%M:%S\"))"
   ]
  },
  {
   "cell_type": "code",
   "execution_count": 184,
   "id": "3c8345cb",
   "metadata": {},
   "outputs": [],
   "source": [
    "d = dt.datetime.strptime(\"2022-09-16 15:05:31\", \"%Y-%m-%d %H:%M:%S\")"
   ]
  },
  {
   "cell_type": "code",
   "execution_count": 185,
   "id": "f671452a",
   "metadata": {},
   "outputs": [
    {
     "data": {
      "text/plain": [
       "datetime.datetime(2022, 9, 16, 15, 5, 31)"
      ]
     },
     "execution_count": 185,
     "metadata": {},
     "output_type": "execute_result"
    }
   ],
   "source": [
    "d"
   ]
  },
  {
   "cell_type": "code",
   "execution_count": 183,
   "id": "ae948798",
   "metadata": {},
   "outputs": [
    {
     "data": {
      "text/html": [
       "<div>\n",
       "<style scoped>\n",
       "    .dataframe tbody tr th:only-of-type {\n",
       "        vertical-align: middle;\n",
       "    }\n",
       "\n",
       "    .dataframe tbody tr th {\n",
       "        vertical-align: top;\n",
       "    }\n",
       "\n",
       "    .dataframe thead th {\n",
       "        text-align: right;\n",
       "    }\n",
       "</style>\n",
       "<table border=\"1\" class=\"dataframe\">\n",
       "  <thead>\n",
       "    <tr style=\"text-align: right;\">\n",
       "      <th></th>\n",
       "      <th>operation</th>\n",
       "      <th>dtime</th>\n",
       "    </tr>\n",
       "  </thead>\n",
       "  <tbody>\n",
       "    <tr>\n",
       "      <th>12</th>\n",
       "      <td>type</td>\n",
       "      <td>2023-09-15 21:07:40</td>\n",
       "    </tr>\n",
       "    <tr>\n",
       "      <th>13</th>\n",
       "      <td>type</td>\n",
       "      <td>2023-09-15 21:07:44</td>\n",
       "    </tr>\n",
       "    <tr>\n",
       "      <th>14</th>\n",
       "      <td>type</td>\n",
       "      <td>2023-09-15 21:07:49</td>\n",
       "    </tr>\n",
       "    <tr>\n",
       "      <th>15</th>\n",
       "      <td>type</td>\n",
       "      <td>2023-09-15 21:07:53</td>\n",
       "    </tr>\n",
       "    <tr>\n",
       "      <th>16</th>\n",
       "      <td>type</td>\n",
       "      <td>2023-09-15 21:07:57</td>\n",
       "    </tr>\n",
       "    <tr>\n",
       "      <th>17</th>\n",
       "      <td>type</td>\n",
       "      <td>2023-09-15 21:08:01</td>\n",
       "    </tr>\n",
       "    <tr>\n",
       "      <th>18</th>\n",
       "      <td>type</td>\n",
       "      <td>2023-09-15 21:08:05</td>\n",
       "    </tr>\n",
       "  </tbody>\n",
       "</table>\n",
       "</div>"
      ],
      "text/plain": [
       "   operation               dtime\n",
       "12      type 2023-09-15 21:07:40\n",
       "13      type 2023-09-15 21:07:44\n",
       "14      type 2023-09-15 21:07:49\n",
       "15      type 2023-09-15 21:07:53\n",
       "16      type 2023-09-15 21:07:57\n",
       "17      type 2023-09-15 21:08:01\n",
       "18      type 2023-09-15 21:08:05"
      ]
     },
     "execution_count": 183,
     "metadata": {},
     "output_type": "execute_result"
    }
   ],
   "source": [
    "df3[(df3.operation == op) & (df3.dtime >= dl) & (df3.dtime < dr)]"
   ]
  },
  {
   "cell_type": "code",
   "execution_count": null,
   "id": "b86048d6",
   "metadata": {},
   "outputs": [],
   "source": []
  }
 ],
 "metadata": {
  "kernelspec": {
   "display_name": "Python 3 (ipykernel)",
   "language": "python",
   "name": "python3"
  },
  "language_info": {
   "codemirror_mode": {
    "name": "ipython",
    "version": 3
   },
   "file_extension": ".py",
   "mimetype": "text/x-python",
   "name": "python",
   "nbconvert_exporter": "python",
   "pygments_lexer": "ipython3",
   "version": "3.11.4"
  }
 },
 "nbformat": 4,
 "nbformat_minor": 5
}
