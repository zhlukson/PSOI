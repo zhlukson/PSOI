{
 "cells": [
  {
   "cell_type": "code",
   "execution_count": null,
   "id": "ff2f81c9",
   "metadata": {},
   "outputs": [
    {
     "name": "stdout",
     "output_type": "stream",
     "text": [
      "Listening on port 8801...\n"
     ]
    },
    {
     "name": "stderr",
     "output_type": "stream",
     "text": [
      "127.0.0.1 - - [23/Oct/2023 13:37:26] \"POST /RPC2 HTTP/1.1\" 200 -\n",
      "127.0.0.1 - - [23/Oct/2023 13:37:55] \"POST /RPC2 HTTP/1.1\" 200 -\n",
      "127.0.0.1 - - [23/Oct/2023 13:38:38] \"POST /RPC2 HTTP/1.1\" 200 -\n",
      "127.0.0.1 - - [23/Oct/2023 13:38:46] \"POST /RPC2 HTTP/1.1\" 200 -\n",
      "127.0.0.1 - - [23/Oct/2023 13:38:54] \"POST /RPC2 HTTP/1.1\" 200 -\n",
      "127.0.0.1 - - [23/Oct/2023 13:39:03] \"POST /RPC2 HTTP/1.1\" 200 -\n",
      "127.0.0.1 - - [23/Oct/2023 13:39:11] \"POST /RPC2 HTTP/1.1\" 200 -\n",
      "127.0.0.1 - - [23/Oct/2023 13:39:19] \"POST /RPC2 HTTP/1.1\" 200 -\n",
      "127.0.0.1 - - [23/Oct/2023 13:39:27] \"POST /RPC2 HTTP/1.1\" 200 -\n",
      "127.0.0.1 - - [23/Oct/2023 13:39:35] \"POST /RPC2 HTTP/1.1\" 200 -\n",
      "127.0.0.1 - - [23/Oct/2023 13:39:43] \"POST /RPC2 HTTP/1.1\" 200 -\n",
      "127.0.0.1 - - [23/Oct/2023 13:39:51] \"POST /RPC2 HTTP/1.1\" 200 -\n",
      "127.0.0.1 - - [23/Oct/2023 13:40:00] \"POST /RPC2 HTTP/1.1\" 200 -\n",
      "127.0.0.1 - - [23/Oct/2023 13:40:10] \"POST /RPC2 HTTP/1.1\" 200 -\n",
      "127.0.0.1 - - [23/Oct/2023 13:40:19] \"POST /RPC2 HTTP/1.1\" 200 -\n",
      "127.0.0.1 - - [23/Oct/2023 13:40:27] \"POST /RPC2 HTTP/1.1\" 200 -\n",
      "127.0.0.1 - - [23/Oct/2023 13:40:35] \"POST /RPC2 HTTP/1.1\" 200 -\n",
      "127.0.0.1 - - [23/Oct/2023 13:40:43] \"POST /RPC2 HTTP/1.1\" 200 -\n",
      "127.0.0.1 - - [23/Oct/2023 13:40:51] \"POST /RPC2 HTTP/1.1\" 200 -\n",
      "127.0.0.1 - - [23/Oct/2023 13:41:08] \"POST /RPC2 HTTP/1.1\" 200 -\n",
      "127.0.0.1 - - [23/Oct/2023 13:41:19] \"POST /RPC2 HTTP/1.1\" 200 -\n",
      "127.0.0.1 - - [23/Oct/2023 13:41:28] \"POST /RPC2 HTTP/1.1\" 200 -\n",
      "127.0.0.1 - - [23/Oct/2023 13:41:37] \"POST /RPC2 HTTP/1.1\" 200 -\n",
      "127.0.0.1 - - [23/Oct/2023 13:41:55] \"POST /RPC2 HTTP/1.1\" 200 -\n",
      "127.0.0.1 - - [23/Oct/2023 13:42:05] \"POST /RPC2 HTTP/1.1\" 200 -\n",
      "127.0.0.1 - - [23/Oct/2023 13:42:14] \"POST /RPC2 HTTP/1.1\" 200 -\n",
      "127.0.0.1 - - [23/Oct/2023 13:42:18] \"POST /RPC2 HTTP/1.1\" 200 -\n",
      "127.0.0.1 - - [23/Oct/2023 13:43:25] \"POST /RPC2 HTTP/1.1\" 200 -\n",
      "127.0.0.1 - - [23/Oct/2023 13:43:34] \"POST /RPC2 HTTP/1.1\" 200 -\n",
      "127.0.0.1 - - [23/Oct/2023 13:43:54] \"POST /RPC2 HTTP/1.1\" 200 -\n",
      "127.0.0.1 - - [23/Oct/2023 13:44:08] \"POST /RPC2 HTTP/1.1\" 200 -\n"
     ]
    }
   ],
   "source": [
    "import xmlrpc.server\n",
    "import xmlrpc.client\n",
    "from xmlrpc.server import SimpleXMLRPCServer\n",
    "from xmlrpc.server import SimpleXMLRPCRequestHandler\n",
    "import datetime as dt\n",
    "import pandas as pd\n",
    "import pickle\n",
    "import time as tm\n",
    "\n",
    "\n",
    "class RequestHandler(SimpleXMLRPCRequestHandler):\n",
    "    rpc_paths = ('/RPC2',)\n",
    "\n",
    "server = SimpleXMLRPCServer((\"localhost\", 8801), requestHandler=RequestHandler)\n",
    "\n",
    "server_log = xmlrpc.client.ServerProxy(\"http://localhost:8018\")\n",
    "server_app = xmlrpc.client.ServerProxy(\"http://localhost:8008\")\n",
    "\n",
    "def add_log(name, time):\n",
    "    try:\n",
    "        server_log.add_log_db(name, time)\n",
    "    except ConnectionRefusedError:\n",
    "        pass\n",
    "\n",
    "def send_to_server(func, *args):\n",
    "    start_time = tm.time()\n",
    "    if func == \"ping\":\n",
    "        res = server_app.ping()\n",
    "    elif func == \"now\":\n",
    "        res = server_app.now()\n",
    "    elif func == \"type\":\n",
    "        res = server_app.type(*args)\n",
    "    elif func == \"sum\":\n",
    "        res = server_app.sum(*args)\n",
    "    elif func == \"pow\":\n",
    "        res = server_app.pow(*args)\n",
    "    elif func == \"send_back_binary\":\n",
    "        res = server_app.send_back_binary(*args)\n",
    "    elif func == \"black_list_check\":\n",
    "        res = server_app.black_list_check(*args)\n",
    "    elif func == \"send_back_inversion\":\n",
    "        res = server_app.color_inversion(*args)\n",
    "    elif func == \"rotate\":\n",
    "        res = server_app.rotate(*args)\n",
    "    elif func == \"binarization_image\":\n",
    "        res = server_app.binarization_image(*args)\n",
    "    elif func == \"return_logs\":\n",
    "        res = server_app.return_logs(*args)\n",
    "    elif func == \"return_log_db\":\n",
    "        res = server_log.return_log_db(*args)\n",
    "    else:\n",
    "        res = \"404 Страница не найдена\"\n",
    "    finish_time = tm.time()\n",
    "    result_time = finish_time - start_time\n",
    "    add_log(func, result_time)\n",
    "    return res\n",
    "    \n",
    "server.register_function(send_to_server, 'send_to_server')\n",
    "    \n",
    "\n",
    "print(\"Listening on port 8801...\")\n",
    "server.serve_forever()"
   ]
  },
  {
   "cell_type": "code",
   "execution_count": null,
   "id": "6156cff6",
   "metadata": {},
   "outputs": [],
   "source": []
  }
 ],
 "metadata": {
  "kernelspec": {
   "display_name": "Python 3 (ipykernel)",
   "language": "python",
   "name": "python3"
  },
  "language_info": {
   "codemirror_mode": {
    "name": "ipython",
    "version": 3
   },
   "file_extension": ".py",
   "mimetype": "text/x-python",
   "name": "python",
   "nbconvert_exporter": "python",
   "pygments_lexer": "ipython3",
   "version": "3.11.4"
  }
 },
 "nbformat": 4,
 "nbformat_minor": 5
}
