{
 "cells": [
  {
   "cell_type": "markdown",
   "metadata": {},
   "source": [
    "#### Файл сервера xmlrpc_stats_server_p3.ipynb на Python 3 "
   ]
  },
  {
   "cell_type": "code",
   "execution_count": null,
   "metadata": {},
   "outputs": [
    {
     "name": "stdout",
     "output_type": "stream",
     "text": [
      "Listening on port 8018...\n"
     ]
    },
    {
     "name": "stderr",
     "output_type": "stream",
     "text": [
      "127.0.0.1 - - [23/Oct/2023 13:43:23] \"POST /RPC2 HTTP/1.1\" 200 -\n",
      "127.0.0.1 - - [23/Oct/2023 13:43:25] \"POST /RPC2 HTTP/1.1\" 200 -\n",
      "127.0.0.1 - - [23/Oct/2023 13:43:32] \"POST /RPC2 HTTP/1.1\" 200 -\n",
      "127.0.0.1 - - [23/Oct/2023 13:43:34] \"POST /RPC2 HTTP/1.1\" 200 -\n",
      "127.0.0.1 - - [23/Oct/2023 13:43:52] \"POST /RPC2 HTTP/1.1\" 200 -\n",
      "127.0.0.1 - - [23/Oct/2023 13:43:54] \"POST /RPC2 HTTP/1.1\" 200 -\n",
      "127.0.0.1 - - [23/Oct/2023 13:44:06] \"POST /RPC2 HTTP/1.1\" 200 -\n",
      "127.0.0.1 - - [23/Oct/2023 13:44:08] \"POST /RPC2 HTTP/1.1\" 200 -\n"
     ]
    }
   ],
   "source": [
    "\n",
    "from xmlrpc.server import SimpleXMLRPCServer\n",
    "from xmlrpc.server import SimpleXMLRPCRequestHandler\n",
    "import os\n",
    "import pandas as pd\n",
    "import sqlite3\n",
    "import datetime as dt\n",
    "\n",
    "LIMIT_LINE = 100\n",
    "\n",
    "conn = sqlite3.connect('log.db')\n",
    "cur = conn.cursor()\n",
    "\n",
    "class RequestHandler(SimpleXMLRPCRequestHandler):\n",
    "    rpc_paths = ('/RPC2',)\n",
    "\n",
    "server = SimpleXMLRPCServer((\"localhost\", 8018), \n",
    "                            requestHandler=RequestHandler, allow_none=True)\n",
    "\n",
    "\n",
    "# Добавление строки в лог\n",
    "def add_log(sname):\n",
    "    global LIMIT_LINE\n",
    "    with open(\"log.csv\", \"r\") as file1:\n",
    "        line_list = file1.readlines()\n",
    "    if len(line_list) >= LIMIT_LINE:\n",
    "        date_save = dt.datetime.now().strftime(\"%Y%m%d_%H%M%S\")\n",
    "        with open(f'logs/{date_save}.csv', \"w\") as file2:\n",
    "            file2.write(\"\".join(line_list))\n",
    "        with open(\"log.csv\", \"w\") as file3:\n",
    "            pass\n",
    "    f = open('log.csv','a')\n",
    "    f.write(str(sname)+','+ dt.datetime.now().strftime(\"%Y-%m-%d %H:%M:%S\") +'\\n')\n",
    "    f.close()\n",
    "    return True\n",
    "\n",
    "server.register_function(add_log, 'add_log')\n",
    "\n",
    "def return_logs(op, dl, dr):\n",
    "    dt_format = \"%Y-%m-%d %H:%M:%S\"\n",
    "    dl = dt.datetime.strptime(dl, dt_format)\n",
    "    dr = dt.datetime.strptime(dr, dt_format)\n",
    "    log_files_list = [f\"logs/{i}\" for i in os.listdir(path=\"./logs\")[1:]]\n",
    "    df = pd.read_csv(\"log.csv\", names=[\"operation\", \"dtime\"])\n",
    "    for i in log_files_list:\n",
    "        df = pd.concat([df, pd.read_csv(i, names=[\"operation\", \"dtime\"])])\n",
    "    df[\"dtime\"] = pd.to_datetime(df[\"dtime\"].apply(lambda x : dt.datetime.strptime(x, \"%Y-%m-%d %H:%M:%S\")))\n",
    "    x = [[i[0], str(i[1])] for i in df[(df.operation == op) & (df.dtime >= dl) & (df.dtime < dr)].values.tolist()]\n",
    "    return x\n",
    "server.register_function(return_logs, 'return_logs')\n",
    "\n",
    "def add_log_db(name, time):\n",
    "    now = dt.datetime.now()\n",
    "    datetime_string = now.strftime(\"%Y-%m-%d %H:%M:%S\")\n",
    "    cur.execute(f\"INSERT INTO logs VALUES ('{name}', {time}, '{datetime_string}')\")\n",
    "    conn.commit()\n",
    "server.register_function(add_log_db, 'add_log_db')\n",
    "\n",
    "def return_log_db(name, time_l, time_r, dt_l):\n",
    "    res = cur.execute(f\"SELECT * FROM logs WHERE name = '{name}' AND time BETWEEN {time_l} AND {time_r} AND datetime LIKE '{dt_l}%'\")\n",
    "    return list(res)\n",
    "server.register_function(return_log_db, 'return_log_db')\n",
    "\n",
    "\n",
    "print (\"Listening on port 8018...\")\n",
    "server.serve_forever()\n"
   ]
  },
  {
   "cell_type": "code",
   "execution_count": null,
   "metadata": {},
   "outputs": [],
   "source": []
  }
 ],
 "metadata": {
  "kernelspec": {
   "display_name": "Python 3 (ipykernel)",
   "language": "python",
   "name": "python3"
  },
  "language_info": {
   "codemirror_mode": {
    "name": "ipython",
    "version": 3
   },
   "file_extension": ".py",
   "mimetype": "text/x-python",
   "name": "python",
   "nbconvert_exporter": "python",
   "pygments_lexer": "ipython3",
   "version": "3.11.4"
  }
 },
 "nbformat": 4,
 "nbformat_minor": 2
}
